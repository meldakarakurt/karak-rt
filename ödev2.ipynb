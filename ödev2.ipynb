{
  "nbformat": 4,
  "nbformat_minor": 0,
  "metadata": {
    "colab": {
      "provenance": [],
      "authorship_tag": "ABX9TyOAR0yt9qa2vKgREJBIY+tR",
      "include_colab_link": true
    },
    "kernelspec": {
      "name": "python3",
      "display_name": "Python 3"
    },
    "language_info": {
      "name": "python"
    }
  },
  "cells": [
    {
      "cell_type": "markdown",
      "metadata": {
        "id": "view-in-github",
        "colab_type": "text"
      },
      "source": [
        "<a href=\"https://colab.research.google.com/github/meldakarakurt/karak-rt/blob/main/%C3%B6dev2.ipynb\" target=\"_parent\"><img src=\"https://colab.research.google.com/assets/colab-badge.svg\" alt=\"Open In Colab\"/></a>"
      ]
    },
    {
      "cell_type": "code",
      "source": [
        "# 1. NumPy Getting Started\n",
        "import numpy as np  # NumPy kütüphanesini np takma adıyla projeye dahil eder\n",
        "# 1’den 10’a kadar olan (10 dahil değil) sayılardan oluşan bir NumPy dizisi oluşturuluyor\n",
        "dizi1 = np.arange(1, 10)\n",
        "print(dizi1)  # Dizi ekrana yazdırılıyor\n"
      ],
      "metadata": {
        "id": "3SoyqBO3jTLy"
      },
      "execution_count": null,
      "outputs": []
    },
    {
      "cell_type": "code",
      "source": [
        "# 2. NumPy Creating Arrays\n",
        "import numpy as np  # NumPy kütüphanesini np takma adıyla projeye dahil eder\n",
        "dizi1 = np.zeros(5)  # 5 elemanlı sıfırlardan oluşan bir dizi\n",
        "dizi2 = np.ones((3, 3))  # 3x3'lük birler matrisi\n",
        "dizi3 = np.arange(10, 20)  # 10 ile 20 arasında artan bir dizi"
      ],
      "metadata": {
        "id": "juy4Z1h9jTaJ"
      },
      "execution_count": null,
      "outputs": []
    },
    {
      "cell_type": "code",
      "source": [
        "# 3. NumPy Array Indexing\n",
        "import numpy as np  # NumPy kütüphanesini np takma adıyla projeye dahil eder\n",
        "arr = np.array([[5, 10, 15], [20, 25, 30], [35, 40, 45]])  # 2D NumPy dizisi oluşturuluyor\n",
        "print(arr[1][2])  # 2. satırın 3. elemanını ekrana yazdırır"
      ],
      "metadata": {
        "id": "eVDg4uG6jTdw"
      },
      "execution_count": null,
      "outputs": []
    },
    {
      "cell_type": "code",
      "source": [
        "# 4. NumPy Array Slicing\n",
        "import numpy as np  # NumPy kütüphanesini np takma adıyla projeye dahil eder\n",
        "alt_dizi = arr[:, :2]  # Tüm satırlardan sadece ilk iki sütun seçiliyor\n",
        "print(alt_dizi)"
      ],
      "metadata": {
        "id": "CfYZNdK0jTgR"
      },
      "execution_count": null,
      "outputs": []
    },
    {
      "cell_type": "code",
      "source": [
        "# 5. NumPy Data Types\n",
        "import numpy as np  # NumPy kütüphanesini np takma adıyla projeye dahil eder\n",
        "arr2 = np.array([1, 2, 3])  # Yeni bir dizi oluşturuluyor\n",
        "print(arr2.dtype)  # Dizinin veri tipi yazdırılıyor\n",
        "arr2 = arr2.astype(float)  # Dizi float türüne dönüştürülüyor\n",
        "print(arr2)\n"
      ],
      "metadata": {
        "id": "wqnQkrwsjTiy"
      },
      "execution_count": null,
      "outputs": []
    },
    {
      "cell_type": "code",
      "source": [
        "# 6. NumPy Copy vs View\n",
        "import numpy as np  # NumPy kütüphanesini np takma adıyla projeye dahil eder\n",
        "kopya_dizi = arr.copy()  # Orijinal dizinin bağımsız bir kopyası oluşturuluyor\n",
        "gorunum_dizi = arr.view()  # Orijinal dizinin görünümü (view) oluşturuluyor\n",
        "kopya_dizi[0][0] = 100  # Kopyadaki değişiklik orijinal diziyi etkilemez\n",
        "print(arr)  # Orijinal dizi değişmemiş olmalı\n",
        "print(kopya_dizi)  # Kopya dizi değişmiş olmalı\n",
        "gorunum_dizi[0][0] = 200  # Görünümdeki değişiklik orijinal diziyi etkiler\n",
        "print(arr)  # Orijinal dizi değişmiş olmalı"
      ],
      "metadata": {
        "id": "RJlRKXmojTlZ"
      },
      "execution_count": null,
      "outputs": []
    },
    {
      "cell_type": "code",
      "source": [
        "# 7. NumPy Array Shape\n",
        "import numpy as np  # NumPy kütüphanesini np takma adıyla projeye dahil eder\n",
        "arr3 = np.random.randint(1, 10, (3, 4))  # 3 satır ve 4 sütundan oluşan bir dizi oluşturuluyor\n",
        "print(arr3.shape)  # Dizinin şekli (boyutu) yazdırılıyor"
      ],
      "metadata": {
        "id": "vlR3KhzHjToB"
      },
      "execution_count": null,
      "outputs": []
    },
    {
      "cell_type": "code",
      "source": [
        "# 8. NumPy Array Reshape\n",
        "import numpy as np  # NumPy kütüphanesini np takma adıyla projeye dahil eder\n",
        "arr4 = np.arange(1, 13)  # 1'den 12'ye kadar olan sayılardan oluşan bir dizi\n",
        "arr4_reshaped = arr4.reshape(3, 4)  # 3x4'lük bir matrise dönüştürülüyor\n",
        "print(arr4_reshaped)"
      ],
      "metadata": {
        "id": "ILWuPkaRjTqR"
      },
      "execution_count": null,
      "outputs": []
    },
    {
      "cell_type": "code",
      "source": [
        "# 9. NumPy Array Iterating\n",
        "import numpy as np  # NumPy kütüphanesini np takma adıyla projeye dahil eder\n",
        "arr5 = np.array([[1, 2, 3], [4, 5, 6], [7, 8, 9]])  # 2D bir NumPy dizisi oluşturuluyor\n",
        "for satir in arr5:\n",
        "    print(satir)  # Satır satır yazdırılıyor\n"
      ],
      "metadata": {
        "id": "4GIAY_3xjTtC"
      },
      "execution_count": null,
      "outputs": []
    },
    {
      "cell_type": "code",
      "source": [
        "# 10. NumPy Array Join\n",
        "import numpy as np  # NumPy kütüphanesini np takma adıyla projeye dahil eder\n",
        "a = np.array([[1, 2], [3, 4]])\n",
        "b = np.array([[5, 6], [7, 8]])\n",
        "yatay_birlestir = np.concatenate((a, b), axis=1)  # Yatayda (axis=1) iki dizi birleştiriliyor\n",
        "dikey_birlestir = np.concatenate((a, b), axis=0)  # Dikeyde (axis=0) iki dizi birleştiriliyor\n",
        "print(yatay_birlestir)\n",
        "print(dikey_birlestir)"
      ],
      "metadata": {
        "id": "GVI1WzqSjTvq"
      },
      "execution_count": null,
      "outputs": []
    },
    {
      "cell_type": "code",
      "source": [
        "# 11. NumPy Array Split\n",
        "import numpy as np  # NumPy kütüphanesini np takma adıyla projeye dahil eder\n",
        "arr6 = np.arange(1, 13)  # 1'den 12'ye kadar bir dizi oluşturuluyor\n",
        "parcalara_bolunmus = np.array_split(arr6, 3)  # 3 eşit parçaya bölünüyor\n",
        "print(parcalara_bolunmus)"
      ],
      "metadata": {
        "id": "m-5IZXj7jTyb"
      },
      "execution_count": null,
      "outputs": []
    },
    {
      "cell_type": "code",
      "source": [
        "# 12. NumPy Array Search\n",
        "import numpy as np  # NumPy kütüphanesini np takma adıyla projeye dahil eder\n",
        "arr7 = np.array([10, 15, 20, 25, 30])\n",
        "indeks = np.where(arr7 == 25)  # 25 değerinin dizideki indeksini buluyor\n",
        "print(indeks)\n"
      ],
      "metadata": {
        "id": "jMkSp2rjjT0h"
      },
      "execution_count": null,
      "outputs": []
    },
    {
      "cell_type": "code",
      "source": [
        "# 13. NumPy Array Sort\n",
        "import numpy as np  # NumPy kütüphanesini np takma adıyla projeye dahil eder\n",
        "arr8 = np.array([42, 17, 8, 99, 23])\n",
        "sirali_arr8 = np.sort(arr8)  # Diziyi küçükten büyüğe sıralıyor\n",
        "print(sirali_arr8)"
      ],
      "metadata": {
        "id": "3dXJbg3cjT3C"
      },
      "execution_count": null,
      "outputs": []
    },
    {
      "cell_type": "code",
      "source": [
        "# 14. NumPy Array Filter\n",
        "import numpy as np  # NumPy kütüphanesini np takma adıyla projeye dahil eder\n",
        "arr9 = np.array([1, 2, 3, 4, 5, 6])\n",
        "cift_sayilar = arr9[arr9 % 2 == 0]  # Yalnızca çift sayılar filtreleniyor\n",
        "print(cift_sayilar)"
      ],
      "metadata": {
        "id": "ascz8Y1JjT55"
      },
      "execution_count": null,
      "outputs": []
    }
  ]
}